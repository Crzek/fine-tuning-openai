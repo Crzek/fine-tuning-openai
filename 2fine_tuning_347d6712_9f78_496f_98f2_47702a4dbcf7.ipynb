{
  "cells": [
    {
      "cell_type": "markdown",
      "metadata": {
        "id": "view-in-github",
        "colab_type": "text"
      },
      "source": [
        "<a href=\"https://colab.research.google.com/github/Crzek/fine-tuning-openai/blob/main/2fine_tuning_347d6712_9f78_496f_98f2_47702a4dbcf7.ipynb\" target=\"_parent\"><img src=\"https://colab.research.google.com/assets/colab-badge.svg\" alt=\"Open In Colab\"/></a>"
      ]
    },
    {
      "cell_type": "markdown",
      "metadata": {
        "id": "W-eCsuaWwNCv"
      },
      "source": [
        "## Importar librería de OpenAI"
      ]
    },
    {
      "cell_type": "code",
      "execution_count": null,
      "metadata": {
        "id": "2xzX-yS7wNCw"
      },
      "outputs": [],
      "source": [
        "from openai import OpenAI\n",
        "client = OpenAI(api_key='INGRESA TU API KEY')"
      ]
    },
    {
      "cell_type": "markdown",
      "metadata": {
        "id": "TUA3br7EwNCx"
      },
      "source": [
        "## Cargar datasets\n",
        "\n",
        "Carga los archivos de los datasets a la plataforma de OpenAI. Esto te generará un ID del archivo que usarás para el fine-tuning del modelo base."
      ]
    },
    {
      "cell_type": "markdown",
      "metadata": {
        "id": "tyFrv0UcwNCy"
      },
      "source": [
        "### Dataset de entrenamiento"
      ]
    },
    {
      "cell_type": "code",
      "execution_count": null,
      "metadata": {
        "id": "IgmQ2zkOwNCy"
      },
      "outputs": [],
      "source": [
        "client.files.create(\n",
        "  file=open(\"INGRESA EL PATH DE data_train.jsonl\", \"rb\"),\n",
        "  purpose=\"fine-tune\"\n",
        ")"
      ]
    },
    {
      "cell_type": "markdown",
      "metadata": {
        "id": "YsHc5xI9wNCy"
      },
      "source": [
        "### Dataset de validación"
      ]
    },
    {
      "cell_type": "code",
      "execution_count": null,
      "metadata": {
        "id": "0Aiu8x5YwNCy"
      },
      "outputs": [],
      "source": [
        "client.files.create(\n",
        "  file=open(\"INGRESA EL PATH DE data_val.jsonl\", \"rb\"),\n",
        "  purpose=\"fine-tune\"\n",
        ")"
      ]
    },
    {
      "cell_type": "markdown",
      "metadata": {
        "id": "Ju5FoPLTwNCz"
      },
      "source": [
        "## Fine-tuning de modelo base"
      ]
    },
    {
      "cell_type": "markdown",
      "metadata": {
        "id": "Fv3E0gjrwNCz"
      },
      "source": [
        "Crea un proceso de fine-tuning.\n",
        "\n",
        "- Necesitas el id de tus dos archivos de datasets de entrenamiento y validación.\n",
        "- Además del nombre del modelo base.\n",
        "\n",
        "Este código iniciará el proceso de fine-tuning que podrás darle seguimiento en la plataforma de OpenAI."
      ]
    },
    {
      "cell_type": "code",
      "execution_count": null,
      "metadata": {
        "id": "1WLbiVOBwNCz"
      },
      "outputs": [],
      "source": [
        "client.fine_tuning.jobs.create(\n",
        "  training_file=\"INGRESA EL FILE ID DEL ARCHIVO DE TRAIN\",\n",
        "  validation_file='INGRESA EL FILE ID DEL ARCHIVO DE VAL',\n",
        "  model=\"gpt-3.5-turbo-1106\" #Puedes cambiar el modelo base según lo necesites.\n",
        ")"
      ]
    },
    {
      "cell_type": "markdown",
      "metadata": {
        "id": "AuYZLgqLwNC0"
      },
      "source": [
        "## Listar y eliminar modelos con fine-tuning"
      ]
    },
    {
      "cell_type": "markdown",
      "metadata": {
        "id": "NvI0kPZgwNC0"
      },
      "source": [
        "### Listar modelos en tu organización"
      ]
    },
    {
      "cell_type": "code",
      "execution_count": null,
      "metadata": {
        "id": "nR2qzw8BwNC0"
      },
      "outputs": [],
      "source": [
        "client.fine_tuning.jobs.list(limit=10)"
      ]
    },
    {
      "cell_type": "markdown",
      "metadata": {
        "id": "clP7lQuwwNC0"
      },
      "source": [
        "### Eliminar modelos de tu organización"
      ]
    },
    {
      "cell_type": "code",
      "execution_count": null,
      "metadata": {
        "id": "zSWhKOBSwNC0"
      },
      "outputs": [],
      "source": [
        "client.models.delete(\"INGRESA EL NOMBRE DEL MODELO A ELIMINAR\")"
      ]
    }
  ],
  "metadata": {
    "kernelspec": {
      "display_name": "openaicourse",
      "language": "python",
      "name": "python3"
    },
    "language_info": {
      "codemirror_mode": {
        "name": "ipython",
        "version": 3
      },
      "file_extension": ".py",
      "mimetype": "text/x-python",
      "name": "python",
      "nbconvert_exporter": "python",
      "pygments_lexer": "ipython3",
      "version": "3.9.0"
    },
    "colab": {
      "provenance": [],
      "include_colab_link": true
    }
  },
  "nbformat": 4,
  "nbformat_minor": 0
}